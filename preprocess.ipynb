{
 "cells": [
  {
   "cell_type": "code",
   "execution_count": 11,
   "metadata": {},
   "outputs": [
    {
     "name": "stdout",
     "output_type": "stream",
     "text": [
      "Requirement already satisfied: pydicom in /Users/mac/anaconda3/lib/python3.7/site-packages (1.4.2)\n",
      "['.DS_Store', 'LIDC-IDRI-0002', 'LIDC-IDRI-0003', 'LIDC-IDRI-0004', 'LIDC-IDRI-0001']\n"
     ]
    }
   ],
   "source": [
    "import os\n",
    "import sys\n",
    "!{sys.executable} -m pip install pydicom\n",
    "# ROOT_PATH = '../../Downloads/LIDC-IDRI/LIDC-IDRI-0001/'\n",
    "ROOT_PATH = './data/'\n",
    "\n",
    "patients= os.listdir(ROOT_PATH)\n",
    "print(patients)"
   ]
  },
  {
   "cell_type": "code",
   "execution_count": 20,
   "metadata": {},
   "outputs": [],
   "source": [
    "import pydicom as dm\n",
    "import shutil\n",
    "\n",
    "def series_retrieval(path):\n",
    "    xml_file = \"\"\n",
    "    for i in os.listdir(path):\n",
    "        if os.path.splitext(i)[-1] == \".xml\":\n",
    "            xml_file = os.path.join(path, i)\n",
    "        if os.path.splitext(i)[-1] == \".dcm\":\n",
    "            i = os.path.join(path, i)\n",
    "            ds = dm.read_file(i)\n",
    "            if ds.Modality != \"CT\":\n",
    "                return xml_file, False\n",
    "    return xml_file, True\n",
    "\n",
    "def study_retrieval(path):\n",
    "    for i in os.listdir(path):\n",
    "        if not i.startswith('.'): #忽略.DS文件\n",
    "            i = os.path.join(path, i)\n",
    "            xml_file, is_CT_file = series_retrieval(i)\n",
    "            if not is_CT_file: #如果series文件夹下某一DCM为其他Modality，则删除整个文件夹\n",
    "                shutil.rmtree(i)\n",
    "                continue\n",
    "            #如果是CT影像，则获得series_i中的.xml文件，并进行解析\n",
    "            print(xml_file)\n",
    "            "
   ]
  },
  {
   "cell_type": "code",
   "execution_count": 21,
   "metadata": {},
   "outputs": [
    {
     "name": "stdout",
     "output_type": "stream",
     "text": [
      "./data/LIDC-IDRI-0002/01-01-2000-98329/3000522-04919/071.xml\n",
      "./data/LIDC-IDRI-0003/01-01-2000-94866/3000611-03264/072.xml\n",
      "./data/LIDC-IDRI-0004/01-01-2000-91780/3000534-58228/074.xml\n",
      "./data/LIDC-IDRI-0001/01-01-2000-30178/3000566-03192/069.xml\n"
     ]
    }
   ],
   "source": [
    "for patient in patients: #遍历所有的patient——file指代每一个patient文件夹\n",
    "     if not patient.startswith('.'): #忽略.DS文件\n",
    "            patient = os.path.join(ROOT_PATH, patient) #路径拼接\n",
    "            studies = os.listdir(patient)\n",
    "            for study in studies: #遍历patient文件夹——study指代每一个study文件夹\n",
    "                if not study.startswith('.'): #忽略.DS文件\n",
    "                    study = os.path.join(patient, study)\n",
    "                    study_retrieval(study)"
   ]
  },
  {
   "cell_type": "code",
   "execution_count": null,
   "metadata": {},
   "outputs": [],
   "source": []
  }
 ],
 "metadata": {
  "kernelspec": {
   "display_name": "Python 3",
   "language": "python",
   "name": "python3"
  },
  "language_info": {
   "codemirror_mode": {
    "name": "ipython",
    "version": 3
   },
   "file_extension": ".py",
   "mimetype": "text/x-python",
   "name": "python",
   "nbconvert_exporter": "python",
   "pygments_lexer": "ipython3",
   "version": "3.7.3"
  }
 },
 "nbformat": 4,
 "nbformat_minor": 2
}
