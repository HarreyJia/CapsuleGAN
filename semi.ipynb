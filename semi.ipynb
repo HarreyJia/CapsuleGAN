{
 "cells": [
  {
   "cell_type": "code",
   "execution_count": 1,
   "metadata": {},
   "outputs": [
    {
     "name": "stderr",
     "output_type": "stream",
     "text": [
      "/home/harreyjia/anaconda3/envs/CapsuleGAN/lib/python3.8/site-packages/sklearn/utils/deprecation.py:144: FutureWarning: The sklearn.semi_supervised.label_propagation module is  deprecated in version 0.22 and will be removed in version 0.24. The corresponding classes / functions should instead be imported from sklearn.semi_supervised. Anything that cannot be imported from sklearn.semi_supervised is now part of the private API.\n",
      "  warnings.warn(message, FutureWarning)\n"
     ]
    }
   ],
   "source": [
    "import numpy as np\n",
    "import torch\n",
    "from sklearn import  metrics\n",
    "from sklearn import datasets\n",
    "from sklearn.semi_supervised.label_propagation import LabelSpreading\n",
    "\n",
    "import random\n",
    "\n",
    "OUTPUT_PATH = './output/'\n",
    "labeled_nums = [100, 500, 1000]\n",
    "num = 0"
   ]
  },
  {
   "cell_type": "code",
   "execution_count": 2,
   "metadata": {},
   "outputs": [],
   "source": [
    "benign_set = np.load(OUTPUT_PATH + \"benign.npy\")\n",
    "malignancy_set = np.load(OUTPUT_PATH + 'malignancy.npy')\n",
    "fake_set = np.load(OUTPUT_PATH + 'fake_' + str(num) + '.npy')"
   ]
  },
  {
   "cell_type": "code",
   "execution_count": 7,
   "metadata": {
    "scrolled": false
   },
   "outputs": [
    {
     "name": "stdout",
     "output_type": "stream",
     "text": [
      "10216\n",
      "Accuracy:0.510800\n",
      "12078\n",
      "Accuracy:0.603900\n",
      "11263\n",
      "Accuracy:0.563150\n",
      "10197\n",
      "Accuracy:0.509850\n",
      "13060\n",
      "Accuracy:0.653000\n",
      "ACC of 100: 0.568140\n",
      "11848\n",
      "Accuracy:0.592400\n",
      "9950\n",
      "Accuracy:0.497500\n",
      "12411\n",
      "Accuracy:0.620550\n",
      "13530\n",
      "Accuracy:0.676500\n",
      "12218\n",
      "Accuracy:0.610900\n",
      "ACC of 500: 0.599570\n",
      "13236\n",
      "Accuracy:0.661800\n",
      "13210\n",
      "Accuracy:0.660500\n",
      "11865\n",
      "Accuracy:0.593250\n",
      "11235\n",
      "Accuracy:0.561750\n",
      "12296\n",
      "Accuracy:0.614800\n",
      "ACC of 1000: 0.618420\n"
     ]
    }
   ],
   "source": [
    "for i in range(3):\n",
    "    labeled_num = int(labeled_nums[i] / 2)\n",
    "    labeled_malignancy = malignancy_set[:labeled_num]\n",
    "    single_acc = []\n",
    "#     iter_num = int(benign_set.shape[0] / labeled_num)\n",
    "    for j in range(5):\n",
    "        labeled_benign = np.array(random.sample(benign_set.tolist(), labeled_num))\n",
    "        X = np.concatenate((labeled_benign, labeled_malignancy, fake_set), axis=0)\n",
    "\n",
    "        X = torch.from_numpy(X)\n",
    "        X = X.view(-1, 8 * 40 * 40)\n",
    "#         X = torch.tensor(X, dtype=torch.float32)\n",
    "\n",
    "        y = [1] * len(X)\n",
    "        y[:labeled_num] = (0,) * labeled_num\n",
    "        unlabeled_indices = np.arange(len(y))[labeled_num * 2:]\n",
    "        X = X.detach().numpy()\n",
    "\n",
    "        #半监督学习LabelSpreading模型\n",
    "        y_train=np.copy(y) # 必须拷贝，后面要用到 y\n",
    "        y_train[unlabeled_indices]=-1 # 未标记样本的标记设定为 -1\n",
    "        clf=LabelSpreading(max_iter=200,kernel='rbf',gamma=0.65)\n",
    "        clf.fit(X,y_train)\n",
    "        ### 获取预测准确率\n",
    "        predicted_labels = clf.transduction_[unlabeled_indices] # 预测标记\n",
    "        print(sum(predicted_labels))\n",
    "        true_labels = np.array(y)[unlabeled_indices] # 真实标记\n",
    "        acc = metrics.accuracy_score(true_labels,predicted_labels)\n",
    "        print(\"Accuracy:%f\"%acc)\n",
    "        single_acc.append(acc)\n",
    "    print(\"ACC of %d: %f\" % (labeled_num * 2, sum(single_acc) / len(single_acc)))"
   ]
  },
  {
   "cell_type": "code",
   "execution_count": null,
   "metadata": {},
   "outputs": [],
   "source": []
  },
  {
   "cell_type": "code",
   "execution_count": null,
   "metadata": {},
   "outputs": [],
   "source": []
  },
  {
   "cell_type": "code",
   "execution_count": null,
   "metadata": {},
   "outputs": [],
   "source": []
  }
 ],
 "metadata": {
  "kernelspec": {
   "display_name": "CapsuleGAN",
   "language": "python",
   "name": "capsulegan"
  },
  "language_info": {
   "codemirror_mode": {
    "name": "ipython",
    "version": 3
   },
   "file_extension": ".py",
   "mimetype": "text/x-python",
   "name": "python",
   "nbconvert_exporter": "python",
   "pygments_lexer": "ipython3",
   "version": "3.8.1"
  }
 },
 "nbformat": 4,
 "nbformat_minor": 2
}
